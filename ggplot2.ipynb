{
 "cells": [
  {
   "cell_type": "code",
   "execution_count": 3,
   "metadata": {},
   "outputs": [],
   "source": [
    "library(ggplot2)\n",
    "library(data.table)"
   ]
  },
  {
   "cell_type": "code",
   "execution_count": 4,
   "metadata": {},
   "outputs": [
    {
     "data": {
      "text/html": [
       "<table>\n",
       "<thead><tr><th scope=col>State</th><th scope=col>region</th><th scope=col>Date</th><th scope=col>Home.Value</th><th scope=col>Structure.Cost</th><th scope=col>Land.Value</th><th scope=col>Land.Share..Pct.</th><th scope=col>Home.Price.Index</th><th scope=col>Land.Price.Index</th><th scope=col>Year</th><th scope=col>Qrtr</th></tr></thead>\n",
       "<tbody>\n",
       "\t<tr><td>AK     </td><td>West   </td><td>2010.25</td><td>224952 </td><td>160599 </td><td>64352  </td><td>28.6   </td><td>1.481  </td><td>1.552  </td><td>2010   </td><td>1      </td></tr>\n",
       "\t<tr><td>AK     </td><td>West   </td><td>2010.50</td><td>225511 </td><td>160252 </td><td>65259  </td><td>28.9   </td><td>1.484  </td><td>1.576  </td><td>2010   </td><td>2      </td></tr>\n",
       "\t<tr><td>AK     </td><td>West   </td><td>2009.75</td><td>225820 </td><td>163791 </td><td>62029  </td><td>27.5   </td><td>1.486  </td><td>1.494  </td><td>2009   </td><td>3      </td></tr>\n",
       "\t<tr><td>AK     </td><td>West   </td><td>2010.00</td><td>224994 </td><td>161787 </td><td>63207  </td><td>28.1   </td><td>1.481  </td><td>1.524  </td><td>2009   </td><td>4      </td></tr>\n",
       "\t<tr><td>AK     </td><td>West   </td><td>2008.00</td><td>234590 </td><td>155400 </td><td>79190  </td><td>33.8   </td><td>1.544  </td><td>1.885  </td><td>2007   </td><td>4      </td></tr>\n",
       "\t<tr><td>AK     </td><td>West   </td><td>2008.25</td><td>233714 </td><td>157458 </td><td>76256  </td><td>32.6   </td><td>1.538  </td><td>1.817  </td><td>2008   </td><td>1      </td></tr>\n",
       "</tbody>\n",
       "</table>\n"
      ],
      "text/latex": [
       "\\begin{tabular}{r|lllllllllll}\n",
       " State & region & Date & Home.Value & Structure.Cost & Land.Value & Land.Share..Pct. & Home.Price.Index & Land.Price.Index & Year & Qrtr\\\\\n",
       "\\hline\n",
       "\t AK      & West    & 2010.25 & 224952  & 160599  & 64352   & 28.6    & 1.481   & 1.552   & 2010    & 1      \\\\\n",
       "\t AK      & West    & 2010.50 & 225511  & 160252  & 65259   & 28.9    & 1.484   & 1.576   & 2010    & 2      \\\\\n",
       "\t AK      & West    & 2009.75 & 225820  & 163791  & 62029   & 27.5    & 1.486   & 1.494   & 2009    & 3      \\\\\n",
       "\t AK      & West    & 2010.00 & 224994  & 161787  & 63207   & 28.1    & 1.481   & 1.524   & 2009    & 4      \\\\\n",
       "\t AK      & West    & 2008.00 & 234590  & 155400  & 79190   & 33.8    & 1.544   & 1.885   & 2007    & 4      \\\\\n",
       "\t AK      & West    & 2008.25 & 233714  & 157458  & 76256   & 32.6    & 1.538   & 1.817   & 2008    & 1      \\\\\n",
       "\\end{tabular}\n"
      ],
      "text/markdown": [
       "\n",
       "State | region | Date | Home.Value | Structure.Cost | Land.Value | Land.Share..Pct. | Home.Price.Index | Land.Price.Index | Year | Qrtr | \n",
       "|---|---|---|---|---|---|\n",
       "| AK      | West    | 2010.25 | 224952  | 160599  | 64352   | 28.6    | 1.481   | 1.552   | 2010    | 1       | \n",
       "| AK      | West    | 2010.50 | 225511  | 160252  | 65259   | 28.9    | 1.484   | 1.576   | 2010    | 2       | \n",
       "| AK      | West    | 2009.75 | 225820  | 163791  | 62029   | 27.5    | 1.486   | 1.494   | 2009    | 3       | \n",
       "| AK      | West    | 2010.00 | 224994  | 161787  | 63207   | 28.1    | 1.481   | 1.524   | 2009    | 4       | \n",
       "| AK      | West    | 2008.00 | 234590  | 155400  | 79190   | 33.8    | 1.544   | 1.885   | 2007    | 4       | \n",
       "| AK      | West    | 2008.25 | 233714  | 157458  | 76256   | 32.6    | 1.538   | 1.817   | 2008    | 1       | \n",
       "\n",
       "\n"
      ],
      "text/plain": [
       "  State region Date    Home.Value Structure.Cost Land.Value Land.Share..Pct.\n",
       "1 AK    West   2010.25 224952     160599         64352      28.6            \n",
       "2 AK    West   2010.50 225511     160252         65259      28.9            \n",
       "3 AK    West   2009.75 225820     163791         62029      27.5            \n",
       "4 AK    West   2010.00 224994     161787         63207      28.1            \n",
       "5 AK    West   2008.00 234590     155400         79190      33.8            \n",
       "6 AK    West   2008.25 233714     157458         76256      32.6            \n",
       "  Home.Price.Index Land.Price.Index Year Qrtr\n",
       "1 1.481            1.552            2010 1   \n",
       "2 1.484            1.576            2010 2   \n",
       "3 1.486            1.494            2009 3   \n",
       "4 1.481            1.524            2009 4   \n",
       "5 1.544            1.885            2007 4   \n",
       "6 1.538            1.817            2008 1   "
      ]
     },
     "metadata": {},
     "output_type": "display_data"
    }
   ],
   "source": [
    "housing <- fread('./input/landdata-states.csv')\n",
    "head(housing)"
   ]
  },
  {
   "cell_type": "code",
   "execution_count": 7,
   "metadata": {},
   "outputs": [
    {
     "data": {
      "text/html": [
       "<ol class=list-inline>\n",
       "\t<li>'AK'</li>\n",
       "\t<li>'AL'</li>\n",
       "\t<li>'AR'</li>\n",
       "\t<li>'AZ'</li>\n",
       "\t<li>'CA'</li>\n",
       "\t<li>'CO'</li>\n",
       "\t<li>'CT'</li>\n",
       "\t<li>'DE'</li>\n",
       "\t<li>'FL'</li>\n",
       "\t<li>'GA'</li>\n",
       "\t<li>'HI'</li>\n",
       "\t<li>'IA'</li>\n",
       "\t<li>'ID'</li>\n",
       "\t<li>'IL'</li>\n",
       "\t<li>'IN'</li>\n",
       "\t<li>'KS'</li>\n",
       "\t<li>'KY'</li>\n",
       "\t<li>'LA'</li>\n",
       "\t<li>'MA'</li>\n",
       "\t<li>'MD'</li>\n",
       "\t<li>'ME'</li>\n",
       "\t<li>'MI'</li>\n",
       "\t<li>'MN'</li>\n",
       "\t<li>'MO'</li>\n",
       "\t<li>'MS'</li>\n",
       "\t<li>'MT'</li>\n",
       "\t<li>'NC'</li>\n",
       "\t<li>'ND'</li>\n",
       "\t<li>'NE'</li>\n",
       "\t<li>'NH'</li>\n",
       "\t<li>'NJ'</li>\n",
       "\t<li>'NM'</li>\n",
       "\t<li>'NV'</li>\n",
       "\t<li>'NY'</li>\n",
       "\t<li>'OH'</li>\n",
       "\t<li>'OK'</li>\n",
       "\t<li>'OR'</li>\n",
       "\t<li>'PA'</li>\n",
       "\t<li>'RI'</li>\n",
       "\t<li>'SC'</li>\n",
       "\t<li>'SD'</li>\n",
       "\t<li>'TN'</li>\n",
       "\t<li>'TX'</li>\n",
       "\t<li>'UT'</li>\n",
       "\t<li>'VA'</li>\n",
       "\t<li>'VT'</li>\n",
       "\t<li>'WA'</li>\n",
       "\t<li>'WI'</li>\n",
       "\t<li>'WV'</li>\n",
       "\t<li>'WY'</li>\n",
       "\t<li>'DC'</li>\n",
       "</ol>\n"
      ],
      "text/latex": [
       "\\begin{enumerate*}\n",
       "\\item 'AK'\n",
       "\\item 'AL'\n",
       "\\item 'AR'\n",
       "\\item 'AZ'\n",
       "\\item 'CA'\n",
       "\\item 'CO'\n",
       "\\item 'CT'\n",
       "\\item 'DE'\n",
       "\\item 'FL'\n",
       "\\item 'GA'\n",
       "\\item 'HI'\n",
       "\\item 'IA'\n",
       "\\item 'ID'\n",
       "\\item 'IL'\n",
       "\\item 'IN'\n",
       "\\item 'KS'\n",
       "\\item 'KY'\n",
       "\\item 'LA'\n",
       "\\item 'MA'\n",
       "\\item 'MD'\n",
       "\\item 'ME'\n",
       "\\item 'MI'\n",
       "\\item 'MN'\n",
       "\\item 'MO'\n",
       "\\item 'MS'\n",
       "\\item 'MT'\n",
       "\\item 'NC'\n",
       "\\item 'ND'\n",
       "\\item 'NE'\n",
       "\\item 'NH'\n",
       "\\item 'NJ'\n",
       "\\item 'NM'\n",
       "\\item 'NV'\n",
       "\\item 'NY'\n",
       "\\item 'OH'\n",
       "\\item 'OK'\n",
       "\\item 'OR'\n",
       "\\item 'PA'\n",
       "\\item 'RI'\n",
       "\\item 'SC'\n",
       "\\item 'SD'\n",
       "\\item 'TN'\n",
       "\\item 'TX'\n",
       "\\item 'UT'\n",
       "\\item 'VA'\n",
       "\\item 'VT'\n",
       "\\item 'WA'\n",
       "\\item 'WI'\n",
       "\\item 'WV'\n",
       "\\item 'WY'\n",
       "\\item 'DC'\n",
       "\\end{enumerate*}\n"
      ],
      "text/markdown": [
       "1. 'AK'\n",
       "2. 'AL'\n",
       "3. 'AR'\n",
       "4. 'AZ'\n",
       "5. 'CA'\n",
       "6. 'CO'\n",
       "7. 'CT'\n",
       "8. 'DE'\n",
       "9. 'FL'\n",
       "10. 'GA'\n",
       "11. 'HI'\n",
       "12. 'IA'\n",
       "13. 'ID'\n",
       "14. 'IL'\n",
       "15. 'IN'\n",
       "16. 'KS'\n",
       "17. 'KY'\n",
       "18. 'LA'\n",
       "19. 'MA'\n",
       "20. 'MD'\n",
       "21. 'ME'\n",
       "22. 'MI'\n",
       "23. 'MN'\n",
       "24. 'MO'\n",
       "25. 'MS'\n",
       "26. 'MT'\n",
       "27. 'NC'\n",
       "28. 'ND'\n",
       "29. 'NE'\n",
       "30. 'NH'\n",
       "31. 'NJ'\n",
       "32. 'NM'\n",
       "33. 'NV'\n",
       "34. 'NY'\n",
       "35. 'OH'\n",
       "36. 'OK'\n",
       "37. 'OR'\n",
       "38. 'PA'\n",
       "39. 'RI'\n",
       "40. 'SC'\n",
       "41. 'SD'\n",
       "42. 'TN'\n",
       "43. 'TX'\n",
       "44. 'UT'\n",
       "45. 'VA'\n",
       "46. 'VT'\n",
       "47. 'WA'\n",
       "48. 'WI'\n",
       "49. 'WV'\n",
       "50. 'WY'\n",
       "51. 'DC'\n",
       "\n",
       "\n"
      ],
      "text/plain": [
       " [1] \"AK\" \"AL\" \"AR\" \"AZ\" \"CA\" \"CO\" \"CT\" \"DE\" \"FL\" \"GA\" \"HI\" \"IA\" \"ID\" \"IL\" \"IN\"\n",
       "[16] \"KS\" \"KY\" \"LA\" \"MA\" \"MD\" \"ME\" \"MI\" \"MN\" \"MO\" \"MS\" \"MT\" \"NC\" \"ND\" \"NE\" \"NH\"\n",
       "[31] \"NJ\" \"NM\" \"NV\" \"NY\" \"OH\" \"OK\" \"OR\" \"PA\" \"RI\" \"SC\" \"SD\" \"TN\" \"TX\" \"UT\" \"VA\"\n",
       "[46] \"VT\" \"WA\" \"WI\" \"WV\" \"WY\" \"DC\""
      ]
     },
     "metadata": {},
     "output_type": "display_data"
    }
   ],
   "source": [
    "unique(housing$State)"
   ]
  },
  {
   "cell_type": "code",
   "execution_count": 8,
   "metadata": {},
   "outputs": [
    {
     "data": {
      "text/html": [
       "<ol class=list-inline>\n",
       "\t<li>'West'</li>\n",
       "\t<li>'South'</li>\n",
       "\t<li>'N. East'</li>\n",
       "\t<li>'Midwest'</li>\n",
       "\t<li>NA</li>\n",
       "</ol>\n"
      ],
      "text/latex": [
       "\\begin{enumerate*}\n",
       "\\item 'West'\n",
       "\\item 'South'\n",
       "\\item 'N. East'\n",
       "\\item 'Midwest'\n",
       "\\item NA\n",
       "\\end{enumerate*}\n"
      ],
      "text/markdown": [
       "1. 'West'\n",
       "2. 'South'\n",
       "3. 'N. East'\n",
       "4. 'Midwest'\n",
       "5. NA\n",
       "\n",
       "\n"
      ],
      "text/plain": [
       "[1] \"West\"    \"South\"   \"N. East\" \"Midwest\" NA       "
      ]
     },
     "metadata": {},
     "output_type": "display_data"
    }
   ],
   "source": [
    "unique(housing$region)"
   ]
  },
  {
   "cell_type": "code",
   "execution_count": 4,
   "metadata": {},
   "outputs": [
    {
     "data": {},
     "metadata": {},
     "output_type": "display_data"
    }
   ],
   "source": [
    "help.search(\"geom_\", package = \"ggplot2\")"
   ]
  },
  {
   "cell_type": "markdown",
   "metadata": {},
   "source": [
    "# Points (Scatterplot)"
   ]
  },
  {
   "cell_type": "code",
   "execution_count": 13,
   "metadata": {},
   "outputs": [
    {
     "data": {},
     "metadata": {},
     "output_type": "display_data"
    },
    {
     "data": {
      "image/png": "[encoded data removed]",
      "text/plain": [
       "plot without title"
      ]
     },
     "metadata": {},
     "output_type": "display_data"
    }
   ],
   "source": [
    "options(repr.plot.width=5, repr.plot.height=3)\n",
    "ggplot(housing[Date == 2001.25,], aes(x=Land.Value, y=Structure.Cost)) +\n",
    "  geom_point()"
   ]
  },
  {
   "cell_type": "code",
   "execution_count": null,
   "metadata": {},
   "outputs": [],
   "source": [
    "ggplot(housing[Date == 2001.25,], aes(x=Land.Value, y=log(Structure.Cost)) +\n",
    "  geom_point()"
   ]
  }
 ],
 "metadata": {
  "kernelspec": {
   "display_name": "R",
   "language": "R",
   "name": "ir"
  },
  "language_info": {
   "codemirror_mode": "r",
   "file_extension": ".r",
   "mimetype": "text/x-r-source",
   "name": "R",
   "pygments_lexer": "r",
   "version": "3.4.2"
  }
 },
 "nbformat": 4,
 "nbformat_minor": 2
}
