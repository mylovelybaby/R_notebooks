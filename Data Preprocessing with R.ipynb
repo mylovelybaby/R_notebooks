{
 "cells": [
  {
   "cell_type": "markdown",
   "metadata": {},
   "source": [
    "## Read data from txt\n",
    "Useful functions: read.csv,read.table,fread\n",
    "<br>\n",
    "Inspect after importing: str,head,summary"
   ]
  },
  {
   "cell_type": "markdown",
   "metadata": {},
   "source": [
    "## tidyr package \n",
    "gather(),separate()"
   ]
  },
  {
   "cell_type": "code",
   "execution_count": 3,
   "metadata": {},
   "outputs": [
    {
     "name": "stderr",
     "output_type": "stream",
     "text": [
      "\n",
      "Attaching package: ‘dplyr’\n",
      "\n",
      "The following objects are masked from ‘package:stats’:\n",
      "\n",
      "    filter, lag\n",
      "\n",
      "The following objects are masked from ‘package:base’:\n",
      "\n",
      "    intersect, setdiff, setequal, union\n",
      "\n"
     ]
    }
   ],
   "source": [
    "library(tidyr)\n",
    "library(dplyr)"
   ]
  },
  {
   "cell_type": "markdown",
   "metadata": {},
   "source": [
    "### gather(): make wide data long"
   ]
  },
  {
   "cell_type": "code",
   "execution_count": 4,
   "metadata": {},
   "outputs": [
    {
     "data": {
      "text/html": [
       "<table>\n",
       "<thead><tr><th scope=col>name</th><th scope=col>a</th><th scope=col>b</th></tr></thead>\n",
       "<tbody>\n",
       "\t<tr><td>Wilbur </td><td>67     </td><td>56     </td></tr>\n",
       "\t<tr><td>Petunia</td><td>80     </td><td>90     </td></tr>\n",
       "\t<tr><td>Gregory</td><td>64     </td><td>50     </td></tr>\n",
       "</tbody>\n",
       "</table>\n"
      ],
      "text/latex": [
       "\\begin{tabular}{r|lll}\n",
       " name & a & b\\\\\n",
       "\\hline\n",
       "\t Wilbur  & 67      & 56     \\\\\n",
       "\t Petunia & 80      & 90     \\\\\n",
       "\t Gregory & 64      & 50     \\\\\n",
       "\\end{tabular}\n"
      ],
      "text/markdown": [
       "\n",
       "name | a | b | \n",
       "|---|---|---|\n",
       "| Wilbur  | 67      | 56      | \n",
       "| Petunia | 80      | 90      | \n",
       "| Gregory | 64      | 50      | \n",
       "\n",
       "\n"
      ],
      "text/plain": [
       "  name    a  b \n",
       "1 Wilbur  67 56\n",
       "2 Petunia 80 90\n",
       "3 Gregory 64 50"
      ]
     },
     "metadata": {},
     "output_type": "display_data"
    }
   ],
   "source": [
    "messy <- data.frame(\n",
    "  name = c(\"Wilbur\", \"Petunia\", \"Gregory\"),\n",
    "  a = c(67, 80, 64),\n",
    "  b = c(56, 90, 50)\n",
    ")\n",
    "messy"
   ]
  },
  {
   "cell_type": "code",
   "execution_count": 5,
   "metadata": {
    "scrolled": true
   },
   "outputs": [
    {
     "data": {
      "text/html": [
       "<table>\n",
       "<thead><tr><th scope=col>name</th><th scope=col>drug</th><th scope=col>heartrate</th></tr></thead>\n",
       "<tbody>\n",
       "\t<tr><td>Wilbur </td><td>a      </td><td>67     </td></tr>\n",
       "\t<tr><td>Petunia</td><td>a      </td><td>80     </td></tr>\n",
       "\t<tr><td>Gregory</td><td>a      </td><td>64     </td></tr>\n",
       "\t<tr><td>Wilbur </td><td>b      </td><td>56     </td></tr>\n",
       "\t<tr><td>Petunia</td><td>b      </td><td>90     </td></tr>\n",
       "\t<tr><td>Gregory</td><td>b      </td><td>50     </td></tr>\n",
       "</tbody>\n",
       "</table>\n"
      ],
      "text/latex": [
       "\\begin{tabular}{r|lll}\n",
       " name & drug & heartrate\\\\\n",
       "\\hline\n",
       "\t Wilbur  & a       & 67     \\\\\n",
       "\t Petunia & a       & 80     \\\\\n",
       "\t Gregory & a       & 64     \\\\\n",
       "\t Wilbur  & b       & 56     \\\\\n",
       "\t Petunia & b       & 90     \\\\\n",
       "\t Gregory & b       & 50     \\\\\n",
       "\\end{tabular}\n"
      ],
      "text/markdown": [
       "\n",
       "name | drug | heartrate | \n",
       "|---|---|---|---|---|---|\n",
       "| Wilbur  | a       | 67      | \n",
       "| Petunia | a       | 80      | \n",
       "| Gregory | a       | 64      | \n",
       "| Wilbur  | b       | 56      | \n",
       "| Petunia | b       | 90      | \n",
       "| Gregory | b       | 50      | \n",
       "\n",
       "\n"
      ],
      "text/plain": [
       "  name    drug heartrate\n",
       "1 Wilbur  a    67       \n",
       "2 Petunia a    80       \n",
       "3 Gregory a    64       \n",
       "4 Wilbur  b    56       \n",
       "5 Petunia b    90       \n",
       "6 Gregory b    50       "
      ]
     },
     "metadata": {},
     "output_type": "display_data"
    }
   ],
   "source": [
    "messy %>%\n",
    "  gather(drug,heartrate,a:b)"
   ]
  },
  {
   "cell_type": "markdown",
   "metadata": {},
   "source": [
    "### separate(): split one variable to multiple variables"
   ]
  },
  {
   "cell_type": "code",
   "execution_count": 6,
   "metadata": {},
   "outputs": [
    {
     "data": {
      "text/html": [
       "<table>\n",
       "<thead><tr><th scope=col>id</th><th scope=col>trt</th><th scope=col>work.T1</th><th scope=col>home.T1</th><th scope=col>work.T2</th><th scope=col>home.T2</th></tr></thead>\n",
       "<tbody>\n",
       "\t<tr><td>1         </td><td>treatment </td><td>0.08513597</td><td>0.6158293 </td><td>0.1135090 </td><td>0.05190332</td></tr>\n",
       "\t<tr><td>2         </td><td>control   </td><td>0.22543662</td><td>0.4296715 </td><td>0.5959253 </td><td>0.26417767</td></tr>\n",
       "\t<tr><td>3         </td><td>treatment </td><td>0.27453052</td><td>0.6516557 </td><td>0.3580500 </td><td>0.39879073</td></tr>\n",
       "\t<tr><td>4         </td><td>control   </td><td>0.27230507</td><td>0.5677378 </td><td>0.4288094 </td><td>0.83613414</td></tr>\n",
       "</tbody>\n",
       "</table>\n"
      ],
      "text/latex": [
       "\\begin{tabular}{r|llllll}\n",
       " id & trt & work.T1 & home.T1 & work.T2 & home.T2\\\\\n",
       "\\hline\n",
       "\t 1          & treatment  & 0.08513597 & 0.6158293  & 0.1135090  & 0.05190332\\\\\n",
       "\t 2          & control    & 0.22543662 & 0.4296715  & 0.5959253  & 0.26417767\\\\\n",
       "\t 3          & treatment  & 0.27453052 & 0.6516557  & 0.3580500  & 0.39879073\\\\\n",
       "\t 4          & control    & 0.27230507 & 0.5677378  & 0.4288094  & 0.83613414\\\\\n",
       "\\end{tabular}\n"
      ],
      "text/markdown": [
       "\n",
       "id | trt | work.T1 | home.T1 | work.T2 | home.T2 | \n",
       "|---|---|---|---|\n",
       "| 1          | treatment  | 0.08513597 | 0.6158293  | 0.1135090  | 0.05190332 | \n",
       "| 2          | control    | 0.22543662 | 0.4296715  | 0.5959253  | 0.26417767 | \n",
       "| 3          | treatment  | 0.27453052 | 0.6516557  | 0.3580500  | 0.39879073 | \n",
       "| 4          | control    | 0.27230507 | 0.5677378  | 0.4288094  | 0.83613414 | \n",
       "\n",
       "\n"
      ],
      "text/plain": [
       "  id trt       work.T1    home.T1   work.T2   home.T2   \n",
       "1 1  treatment 0.08513597 0.6158293 0.1135090 0.05190332\n",
       "2 2  control   0.22543662 0.4296715 0.5959253 0.26417767\n",
       "3 3  treatment 0.27453052 0.6516557 0.3580500 0.39879073\n",
       "4 4  control   0.27230507 0.5677378 0.4288094 0.83613414"
      ]
     },
     "metadata": {},
     "output_type": "display_data"
    }
   ],
   "source": [
    "set.seed(10)\n",
    "messy <- data.frame(\n",
    "  id = 1:4,\n",
    "  trt = sample(rep(c('control', 'treatment'), each = 2)),\n",
    "  work.T1 = runif(4),\n",
    "  home.T1 = runif(4),\n",
    "  work.T2 = runif(4),\n",
    "  home.T2 = runif(4)\n",
    ")\n",
    "messy"
   ]
  },
  {
   "cell_type": "code",
   "execution_count": 7,
   "metadata": {
    "scrolled": false
   },
   "outputs": [
    {
     "data": {
      "text/html": [
       "<table>\n",
       "<thead><tr><th scope=col>id</th><th scope=col>trt</th><th scope=col>location</th><th scope=col>time</th><th scope=col>value</th></tr></thead>\n",
       "<tbody>\n",
       "\t<tr><td>1         </td><td>treatment </td><td>work      </td><td>T1        </td><td>0.08513597</td></tr>\n",
       "\t<tr><td>2         </td><td>control   </td><td>work      </td><td>T1        </td><td>0.22543662</td></tr>\n",
       "\t<tr><td>3         </td><td>treatment </td><td>work      </td><td>T1        </td><td>0.27453052</td></tr>\n",
       "\t<tr><td>4         </td><td>control   </td><td>work      </td><td>T1        </td><td>0.27230507</td></tr>\n",
       "\t<tr><td>1         </td><td>treatment </td><td>home      </td><td>T1        </td><td>0.61582931</td></tr>\n",
       "\t<tr><td>2         </td><td>control   </td><td>home      </td><td>T1        </td><td>0.42967153</td></tr>\n",
       "\t<tr><td>3         </td><td>treatment </td><td>home      </td><td>T1        </td><td>0.65165567</td></tr>\n",
       "\t<tr><td>4         </td><td>control   </td><td>home      </td><td>T1        </td><td>0.56773775</td></tr>\n",
       "\t<tr><td>1         </td><td>treatment </td><td>work      </td><td>T2        </td><td>0.11350898</td></tr>\n",
       "\t<tr><td>2         </td><td>control   </td><td>work      </td><td>T2        </td><td>0.59592531</td></tr>\n",
       "\t<tr><td>3         </td><td>treatment </td><td>work      </td><td>T2        </td><td>0.35804998</td></tr>\n",
       "\t<tr><td>4         </td><td>control   </td><td>work      </td><td>T2        </td><td>0.42880942</td></tr>\n",
       "\t<tr><td>1         </td><td>treatment </td><td>home      </td><td>T2        </td><td>0.05190332</td></tr>\n",
       "\t<tr><td>2         </td><td>control   </td><td>home      </td><td>T2        </td><td>0.26417767</td></tr>\n",
       "\t<tr><td>3         </td><td>treatment </td><td>home      </td><td>T2        </td><td>0.39879073</td></tr>\n",
       "\t<tr><td>4         </td><td>control   </td><td>home      </td><td>T2        </td><td>0.83613414</td></tr>\n",
       "</tbody>\n",
       "</table>\n"
      ],
      "text/latex": [
       "\\begin{tabular}{r|lllll}\n",
       " id & trt & location & time & value\\\\\n",
       "\\hline\n",
       "\t 1          & treatment  & work       & T1         & 0.08513597\\\\\n",
       "\t 2          & control    & work       & T1         & 0.22543662\\\\\n",
       "\t 3          & treatment  & work       & T1         & 0.27453052\\\\\n",
       "\t 4          & control    & work       & T1         & 0.27230507\\\\\n",
       "\t 1          & treatment  & home       & T1         & 0.61582931\\\\\n",
       "\t 2          & control    & home       & T1         & 0.42967153\\\\\n",
       "\t 3          & treatment  & home       & T1         & 0.65165567\\\\\n",
       "\t 4          & control    & home       & T1         & 0.56773775\\\\\n",
       "\t 1          & treatment  & work       & T2         & 0.11350898\\\\\n",
       "\t 2          & control    & work       & T2         & 0.59592531\\\\\n",
       "\t 3          & treatment  & work       & T2         & 0.35804998\\\\\n",
       "\t 4          & control    & work       & T2         & 0.42880942\\\\\n",
       "\t 1          & treatment  & home       & T2         & 0.05190332\\\\\n",
       "\t 2          & control    & home       & T2         & 0.26417767\\\\\n",
       "\t 3          & treatment  & home       & T2         & 0.39879073\\\\\n",
       "\t 4          & control    & home       & T2         & 0.83613414\\\\\n",
       "\\end{tabular}\n"
      ],
      "text/markdown": [
       "\n",
       "id | trt | location | time | value | \n",
       "|---|---|---|---|---|---|---|---|---|---|---|---|---|---|---|---|\n",
       "| 1          | treatment  | work       | T1         | 0.08513597 | \n",
       "| 2          | control    | work       | T1         | 0.22543662 | \n",
       "| 3          | treatment  | work       | T1         | 0.27453052 | \n",
       "| 4          | control    | work       | T1         | 0.27230507 | \n",
       "| 1          | treatment  | home       | T1         | 0.61582931 | \n",
       "| 2          | control    | home       | T1         | 0.42967153 | \n",
       "| 3          | treatment  | home       | T1         | 0.65165567 | \n",
       "| 4          | control    | home       | T1         | 0.56773775 | \n",
       "| 1          | treatment  | work       | T2         | 0.11350898 | \n",
       "| 2          | control    | work       | T2         | 0.59592531 | \n",
       "| 3          | treatment  | work       | T2         | 0.35804998 | \n",
       "| 4          | control    | work       | T2         | 0.42880942 | \n",
       "| 1          | treatment  | home       | T2         | 0.05190332 | \n",
       "| 2          | control    | home       | T2         | 0.26417767 | \n",
       "| 3          | treatment  | home       | T2         | 0.39879073 | \n",
       "| 4          | control    | home       | T2         | 0.83613414 | \n",
       "\n",
       "\n"
      ],
      "text/plain": [
       "   id trt       location time value     \n",
       "1  1  treatment work     T1   0.08513597\n",
       "2  2  control   work     T1   0.22543662\n",
       "3  3  treatment work     T1   0.27453052\n",
       "4  4  control   work     T1   0.27230507\n",
       "5  1  treatment home     T1   0.61582931\n",
       "6  2  control   home     T1   0.42967153\n",
       "7  3  treatment home     T1   0.65165567\n",
       "8  4  control   home     T1   0.56773775\n",
       "9  1  treatment work     T2   0.11350898\n",
       "10 2  control   work     T2   0.59592531\n",
       "11 3  treatment work     T2   0.35804998\n",
       "12 4  control   work     T2   0.42880942\n",
       "13 1  treatment home     T2   0.05190332\n",
       "14 2  control   home     T2   0.26417767\n",
       "15 3  treatment home     T2   0.39879073\n",
       "16 4  control   home     T2   0.83613414"
      ]
     },
     "metadata": {},
     "output_type": "display_data"
    }
   ],
   "source": [
    "tidier <- messy %>%\n",
    "  gather(key,value,-id,-trt) %>%\n",
    "  separate(key,c('location','time'),sep='\\\\.')\n",
    "tidier"
   ]
  },
  {
   "cell_type": "markdown",
   "metadata": {},
   "source": [
    "## dplyr package\n",
    " - **filter(data, conditions)**        \n",
    " rows from data where conditions hold\n",
    "<br>\n",
    " - **select(data, variables)**\t   \n",
    " a subset of the columns in data, as specified in variables\n",
    "<br>\n",
    " - **arrange(data, variables)**\t \n",
    " data sorted by variables\n",
    "<br>\n",
    " - **group_by(data, variables)**\n",
    " a copy of data, with groups defined by variables\n",
    "<br>\n",
    " - **summarize(data, newvar = function)**\n",
    " a data frame with newvar columns that summarize data (or each group in data) based on an aggregation function\n",
    "<br>\n",
    " - **mutate(data, newvar = function)**\t  \n",
    " a data frame with newvar columns defined by a function of existing columns\n",
    "<br>\n",
    " - **join(data1, data2, variables)**\n",
    " a data frame that joins columns from data1 and data2 based on matching values of variables\n",
    "<br>"
   ]
  },
  {
   "cell_type": "markdown",
   "metadata": {},
   "source": [
    "### filter"
   ]
  },
  {
   "cell_type": "code",
   "execution_count": 8,
   "metadata": {},
   "outputs": [
    {
     "data": {
      "text/html": [
       "<table>\n",
       "<thead><tr><th scope=col>id</th><th scope=col>trt</th><th scope=col>location</th><th scope=col>time</th><th scope=col>value</th></tr></thead>\n",
       "<tbody>\n",
       "\t<tr><td>2        </td><td>control  </td><td>work     </td><td>T1       </td><td>0.2254366</td></tr>\n",
       "\t<tr><td>4        </td><td>control  </td><td>work     </td><td>T1       </td><td>0.2723051</td></tr>\n",
       "\t<tr><td>2        </td><td>control  </td><td>work     </td><td>T2       </td><td>0.5959253</td></tr>\n",
       "\t<tr><td>4        </td><td>control  </td><td>work     </td><td>T2       </td><td>0.4288094</td></tr>\n",
       "</tbody>\n",
       "</table>\n"
      ],
      "text/latex": [
       "\\begin{tabular}{r|lllll}\n",
       " id & trt & location & time & value\\\\\n",
       "\\hline\n",
       "\t 2         & control   & work      & T1        & 0.2254366\\\\\n",
       "\t 4         & control   & work      & T1        & 0.2723051\\\\\n",
       "\t 2         & control   & work      & T2        & 0.5959253\\\\\n",
       "\t 4         & control   & work      & T2        & 0.4288094\\\\\n",
       "\\end{tabular}\n"
      ],
      "text/markdown": [
       "\n",
       "id | trt | location | time | value | \n",
       "|---|---|---|---|\n",
       "| 2         | control   | work      | T1        | 0.2254366 | \n",
       "| 4         | control   | work      | T1        | 0.2723051 | \n",
       "| 2         | control   | work      | T2        | 0.5959253 | \n",
       "| 4         | control   | work      | T2        | 0.4288094 | \n",
       "\n",
       "\n"
      ],
      "text/plain": [
       "  id trt     location time value    \n",
       "1 2  control work     T1   0.2254366\n",
       "2 4  control work     T1   0.2723051\n",
       "3 2  control work     T2   0.5959253\n",
       "4 4  control work     T2   0.4288094"
      ]
     },
     "metadata": {},
     "output_type": "display_data"
    }
   ],
   "source": [
    "tidier %>% \n",
    "  filter(trt=='control' & location=='work')"
   ]
  },
  {
   "cell_type": "markdown",
   "metadata": {},
   "source": [
    "### select"
   ]
  },
  {
   "cell_type": "code",
   "execution_count": 9,
   "metadata": {
    "scrolled": false
   },
   "outputs": [
    {
     "data": {
      "text/html": [
       "<table>\n",
       "<thead><tr><th scope=col>id</th><th scope=col>trt</th><th scope=col>value</th></tr></thead>\n",
       "<tbody>\n",
       "\t<tr><td>1         </td><td>treatment </td><td>0.08513597</td></tr>\n",
       "\t<tr><td>2         </td><td>control   </td><td>0.22543662</td></tr>\n",
       "\t<tr><td>3         </td><td>treatment </td><td>0.27453052</td></tr>\n",
       "\t<tr><td>4         </td><td>control   </td><td>0.27230507</td></tr>\n",
       "\t<tr><td>1         </td><td>treatment </td><td>0.61582931</td></tr>\n",
       "\t<tr><td>2         </td><td>control   </td><td>0.42967153</td></tr>\n",
       "\t<tr><td>3         </td><td>treatment </td><td>0.65165567</td></tr>\n",
       "\t<tr><td>4         </td><td>control   </td><td>0.56773775</td></tr>\n",
       "\t<tr><td>1         </td><td>treatment </td><td>0.11350898</td></tr>\n",
       "\t<tr><td>2         </td><td>control   </td><td>0.59592531</td></tr>\n",
       "\t<tr><td>3         </td><td>treatment </td><td>0.35804998</td></tr>\n",
       "\t<tr><td>4         </td><td>control   </td><td>0.42880942</td></tr>\n",
       "\t<tr><td>1         </td><td>treatment </td><td>0.05190332</td></tr>\n",
       "\t<tr><td>2         </td><td>control   </td><td>0.26417767</td></tr>\n",
       "\t<tr><td>3         </td><td>treatment </td><td>0.39879073</td></tr>\n",
       "\t<tr><td>4         </td><td>control   </td><td>0.83613414</td></tr>\n",
       "</tbody>\n",
       "</table>\n"
      ],
      "text/latex": [
       "\\begin{tabular}{r|lll}\n",
       " id & trt & value\\\\\n",
       "\\hline\n",
       "\t 1          & treatment  & 0.08513597\\\\\n",
       "\t 2          & control    & 0.22543662\\\\\n",
       "\t 3          & treatment  & 0.27453052\\\\\n",
       "\t 4          & control    & 0.27230507\\\\\n",
       "\t 1          & treatment  & 0.61582931\\\\\n",
       "\t 2          & control    & 0.42967153\\\\\n",
       "\t 3          & treatment  & 0.65165567\\\\\n",
       "\t 4          & control    & 0.56773775\\\\\n",
       "\t 1          & treatment  & 0.11350898\\\\\n",
       "\t 2          & control    & 0.59592531\\\\\n",
       "\t 3          & treatment  & 0.35804998\\\\\n",
       "\t 4          & control    & 0.42880942\\\\\n",
       "\t 1          & treatment  & 0.05190332\\\\\n",
       "\t 2          & control    & 0.26417767\\\\\n",
       "\t 3          & treatment  & 0.39879073\\\\\n",
       "\t 4          & control    & 0.83613414\\\\\n",
       "\\end{tabular}\n"
      ],
      "text/markdown": [
       "\n",
       "id | trt | value | \n",
       "|---|---|---|---|---|---|---|---|---|---|---|---|---|---|---|---|\n",
       "| 1          | treatment  | 0.08513597 | \n",
       "| 2          | control    | 0.22543662 | \n",
       "| 3          | treatment  | 0.27453052 | \n",
       "| 4          | control    | 0.27230507 | \n",
       "| 1          | treatment  | 0.61582931 | \n",
       "| 2          | control    | 0.42967153 | \n",
       "| 3          | treatment  | 0.65165567 | \n",
       "| 4          | control    | 0.56773775 | \n",
       "| 1          | treatment  | 0.11350898 | \n",
       "| 2          | control    | 0.59592531 | \n",
       "| 3          | treatment  | 0.35804998 | \n",
       "| 4          | control    | 0.42880942 | \n",
       "| 1          | treatment  | 0.05190332 | \n",
       "| 2          | control    | 0.26417767 | \n",
       "| 3          | treatment  | 0.39879073 | \n",
       "| 4          | control    | 0.83613414 | \n",
       "\n",
       "\n"
      ],
      "text/plain": [
       "   id trt       value     \n",
       "1  1  treatment 0.08513597\n",
       "2  2  control   0.22543662\n",
       "3  3  treatment 0.27453052\n",
       "4  4  control   0.27230507\n",
       "5  1  treatment 0.61582931\n",
       "6  2  control   0.42967153\n",
       "7  3  treatment 0.65165567\n",
       "8  4  control   0.56773775\n",
       "9  1  treatment 0.11350898\n",
       "10 2  control   0.59592531\n",
       "11 3  treatment 0.35804998\n",
       "12 4  control   0.42880942\n",
       "13 1  treatment 0.05190332\n",
       "14 2  control   0.26417767\n",
       "15 3  treatment 0.39879073\n",
       "16 4  control   0.83613414"
      ]
     },
     "metadata": {},
     "output_type": "display_data"
    }
   ],
   "source": [
    "tidier %>%\n",
    "  select(id,trt,value)"
   ]
  },
  {
   "cell_type": "markdown",
   "metadata": {},
   "source": [
    "### arrange"
   ]
  },
  {
   "cell_type": "code",
   "execution_count": 10,
   "metadata": {
    "scrolled": false
   },
   "outputs": [
    {
     "data": {
      "text/html": [
       "<table>\n",
       "<thead><tr><th scope=col>id</th><th scope=col>trt</th><th scope=col>location</th><th scope=col>time</th><th scope=col>value</th></tr></thead>\n",
       "<tbody>\n",
       "\t<tr><td>4         </td><td>control   </td><td>home      </td><td>T1        </td><td>0.56773775</td></tr>\n",
       "\t<tr><td>2         </td><td>control   </td><td>home      </td><td>T1        </td><td>0.42967153</td></tr>\n",
       "\t<tr><td>4         </td><td>control   </td><td>home      </td><td>T2        </td><td>0.83613414</td></tr>\n",
       "\t<tr><td>2         </td><td>control   </td><td>home      </td><td>T2        </td><td>0.26417767</td></tr>\n",
       "\t<tr><td>4         </td><td>control   </td><td>work      </td><td>T1        </td><td>0.27230507</td></tr>\n",
       "\t<tr><td>2         </td><td>control   </td><td>work      </td><td>T1        </td><td>0.22543662</td></tr>\n",
       "\t<tr><td>2         </td><td>control   </td><td>work      </td><td>T2        </td><td>0.59592531</td></tr>\n",
       "\t<tr><td>4         </td><td>control   </td><td>work      </td><td>T2        </td><td>0.42880942</td></tr>\n",
       "\t<tr><td>3         </td><td>treatment </td><td>home      </td><td>T1        </td><td>0.65165567</td></tr>\n",
       "\t<tr><td>1         </td><td>treatment </td><td>home      </td><td>T1        </td><td>0.61582931</td></tr>\n",
       "\t<tr><td>3         </td><td>treatment </td><td>home      </td><td>T2        </td><td>0.39879073</td></tr>\n",
       "\t<tr><td>1         </td><td>treatment </td><td>home      </td><td>T2        </td><td>0.05190332</td></tr>\n",
       "\t<tr><td>3         </td><td>treatment </td><td>work      </td><td>T1        </td><td>0.27453052</td></tr>\n",
       "\t<tr><td>1         </td><td>treatment </td><td>work      </td><td>T1        </td><td>0.08513597</td></tr>\n",
       "\t<tr><td>3         </td><td>treatment </td><td>work      </td><td>T2        </td><td>0.35804998</td></tr>\n",
       "\t<tr><td>1         </td><td>treatment </td><td>work      </td><td>T2        </td><td>0.11350898</td></tr>\n",
       "</tbody>\n",
       "</table>\n"
      ],
      "text/latex": [
       "\\begin{tabular}{r|lllll}\n",
       " id & trt & location & time & value\\\\\n",
       "\\hline\n",
       "\t 4          & control    & home       & T1         & 0.56773775\\\\\n",
       "\t 2          & control    & home       & T1         & 0.42967153\\\\\n",
       "\t 4          & control    & home       & T2         & 0.83613414\\\\\n",
       "\t 2          & control    & home       & T2         & 0.26417767\\\\\n",
       "\t 4          & control    & work       & T1         & 0.27230507\\\\\n",
       "\t 2          & control    & work       & T1         & 0.22543662\\\\\n",
       "\t 2          & control    & work       & T2         & 0.59592531\\\\\n",
       "\t 4          & control    & work       & T2         & 0.42880942\\\\\n",
       "\t 3          & treatment  & home       & T1         & 0.65165567\\\\\n",
       "\t 1          & treatment  & home       & T1         & 0.61582931\\\\\n",
       "\t 3          & treatment  & home       & T2         & 0.39879073\\\\\n",
       "\t 1          & treatment  & home       & T2         & 0.05190332\\\\\n",
       "\t 3          & treatment  & work       & T1         & 0.27453052\\\\\n",
       "\t 1          & treatment  & work       & T1         & 0.08513597\\\\\n",
       "\t 3          & treatment  & work       & T2         & 0.35804998\\\\\n",
       "\t 1          & treatment  & work       & T2         & 0.11350898\\\\\n",
       "\\end{tabular}\n"
      ],
      "text/markdown": [
       "\n",
       "id | trt | location | time | value | \n",
       "|---|---|---|---|---|---|---|---|---|---|---|---|---|---|---|---|\n",
       "| 4          | control    | home       | T1         | 0.56773775 | \n",
       "| 2          | control    | home       | T1         | 0.42967153 | \n",
       "| 4          | control    | home       | T2         | 0.83613414 | \n",
       "| 2          | control    | home       | T2         | 0.26417767 | \n",
       "| 4          | control    | work       | T1         | 0.27230507 | \n",
       "| 2          | control    | work       | T1         | 0.22543662 | \n",
       "| 2          | control    | work       | T2         | 0.59592531 | \n",
       "| 4          | control    | work       | T2         | 0.42880942 | \n",
       "| 3          | treatment  | home       | T1         | 0.65165567 | \n",
       "| 1          | treatment  | home       | T1         | 0.61582931 | \n",
       "| 3          | treatment  | home       | T2         | 0.39879073 | \n",
       "| 1          | treatment  | home       | T2         | 0.05190332 | \n",
       "| 3          | treatment  | work       | T1         | 0.27453052 | \n",
       "| 1          | treatment  | work       | T1         | 0.08513597 | \n",
       "| 3          | treatment  | work       | T2         | 0.35804998 | \n",
       "| 1          | treatment  | work       | T2         | 0.11350898 | \n",
       "\n",
       "\n"
      ],
      "text/plain": [
       "   id trt       location time value     \n",
       "1  4  control   home     T1   0.56773775\n",
       "2  2  control   home     T1   0.42967153\n",
       "3  4  control   home     T2   0.83613414\n",
       "4  2  control   home     T2   0.26417767\n",
       "5  4  control   work     T1   0.27230507\n",
       "6  2  control   work     T1   0.22543662\n",
       "7  2  control   work     T2   0.59592531\n",
       "8  4  control   work     T2   0.42880942\n",
       "9  3  treatment home     T1   0.65165567\n",
       "10 1  treatment home     T1   0.61582931\n",
       "11 3  treatment home     T2   0.39879073\n",
       "12 1  treatment home     T2   0.05190332\n",
       "13 3  treatment work     T1   0.27453052\n",
       "14 1  treatment work     T1   0.08513597\n",
       "15 3  treatment work     T2   0.35804998\n",
       "16 1  treatment work     T2   0.11350898"
      ]
     },
     "metadata": {},
     "output_type": "display_data"
    }
   ],
   "source": [
    "tidier %>%\n",
    "  arrange(trt,location,time,desc(value))"
   ]
  },
  {
   "cell_type": "markdown",
   "metadata": {},
   "source": [
    "### group_by, summarize"
   ]
  },
  {
   "cell_type": "code",
   "execution_count": 11,
   "metadata": {},
   "outputs": [
    {
     "data": {
      "text/html": [
       "<table>\n",
       "<thead><tr><th scope=col>trt</th><th scope=col>location</th><th scope=col>count</th></tr></thead>\n",
       "<tbody>\n",
       "\t<tr><td>control  </td><td>home     </td><td>4        </td></tr>\n",
       "\t<tr><td>control  </td><td>work     </td><td>4        </td></tr>\n",
       "\t<tr><td>treatment</td><td>home     </td><td>4        </td></tr>\n",
       "\t<tr><td>treatment</td><td>work     </td><td>4        </td></tr>\n",
       "</tbody>\n",
       "</table>\n"
      ],
      "text/latex": [
       "\\begin{tabular}{r|lll}\n",
       " trt & location & count\\\\\n",
       "\\hline\n",
       "\t control   & home      & 4        \\\\\n",
       "\t control   & work      & 4        \\\\\n",
       "\t treatment & home      & 4        \\\\\n",
       "\t treatment & work      & 4        \\\\\n",
       "\\end{tabular}\n"
      ],
      "text/markdown": [
       "\n",
       "trt | location | count | \n",
       "|---|---|---|---|\n",
       "| control   | home      | 4         | \n",
       "| control   | work      | 4         | \n",
       "| treatment | home      | 4         | \n",
       "| treatment | work      | 4         | \n",
       "\n",
       "\n"
      ],
      "text/plain": [
       "  trt       location count\n",
       "1 control   home     4    \n",
       "2 control   work     4    \n",
       "3 treatment home     4    \n",
       "4 treatment work     4    "
      ]
     },
     "metadata": {},
     "output_type": "display_data"
    }
   ],
   "source": [
    "tidier %>%\n",
    "  group_by(trt,location) %>%\n",
    "  summarize(count=n())"
   ]
  },
  {
   "cell_type": "code",
   "execution_count": 12,
   "metadata": {},
   "outputs": [
    {
     "data": {
      "text/html": [
       "<table>\n",
       "<thead><tr><th scope=col>trt</th><th scope=col>location</th><th scope=col>mean_value</th></tr></thead>\n",
       "<tbody>\n",
       "\t<tr><td>control  </td><td>home     </td><td>0.5244303</td></tr>\n",
       "\t<tr><td>control  </td><td>work     </td><td>0.3806191</td></tr>\n",
       "\t<tr><td>treatment</td><td>home     </td><td>0.4295448</td></tr>\n",
       "\t<tr><td>treatment</td><td>work     </td><td>0.2078064</td></tr>\n",
       "</tbody>\n",
       "</table>\n"
      ],
      "text/latex": [
       "\\begin{tabular}{r|lll}\n",
       " trt & location & mean\\_value\\\\\n",
       "\\hline\n",
       "\t control   & home      & 0.5244303\\\\\n",
       "\t control   & work      & 0.3806191\\\\\n",
       "\t treatment & home      & 0.4295448\\\\\n",
       "\t treatment & work      & 0.2078064\\\\\n",
       "\\end{tabular}\n"
      ],
      "text/markdown": [
       "\n",
       "trt | location | mean_value | \n",
       "|---|---|---|---|\n",
       "| control   | home      | 0.5244303 | \n",
       "| control   | work      | 0.3806191 | \n",
       "| treatment | home      | 0.4295448 | \n",
       "| treatment | work      | 0.2078064 | \n",
       "\n",
       "\n"
      ],
      "text/plain": [
       "  trt       location mean_value\n",
       "1 control   home     0.5244303 \n",
       "2 control   work     0.3806191 \n",
       "3 treatment home     0.4295448 \n",
       "4 treatment work     0.2078064 "
      ]
     },
     "metadata": {},
     "output_type": "display_data"
    }
   ],
   "source": [
    "tidier %>%\n",
    "  group_by(trt,location) %>%\n",
    "  summarize(mean_value=mean(value,na.rm=TRUE))"
   ]
  },
  {
   "cell_type": "markdown",
   "metadata": {},
   "source": [
    "### mutate"
   ]
  },
  {
   "cell_type": "code",
   "execution_count": 13,
   "metadata": {},
   "outputs": [
    {
     "data": {
      "text/html": [
       "<table>\n",
       "<thead><tr><th scope=col>id</th><th scope=col>trt</th><th scope=col>location</th><th scope=col>time</th><th scope=col>value</th><th scope=col>value2</th></tr></thead>\n",
       "<tbody>\n",
       "\t<tr><td>1         </td><td>treatment </td><td>work      </td><td>T1        </td><td>0.08513597</td><td>0.04256798</td></tr>\n",
       "\t<tr><td>2         </td><td>control   </td><td>work      </td><td>T1        </td><td>0.22543662</td><td>0.11271831</td></tr>\n",
       "\t<tr><td>3         </td><td>treatment </td><td>work      </td><td>T1        </td><td>0.27453052</td><td>0.13726526</td></tr>\n",
       "\t<tr><td>4         </td><td>control   </td><td>work      </td><td>T1        </td><td>0.27230507</td><td>0.13615253</td></tr>\n",
       "\t<tr><td>1         </td><td>treatment </td><td>home      </td><td>T1        </td><td>0.61582931</td><td>0.30791465</td></tr>\n",
       "\t<tr><td>2         </td><td>control   </td><td>home      </td><td>T1        </td><td>0.42967153</td><td>0.21483576</td></tr>\n",
       "\t<tr><td>3         </td><td>treatment </td><td>home      </td><td>T1        </td><td>0.65165567</td><td>0.32582783</td></tr>\n",
       "\t<tr><td>4         </td><td>control   </td><td>home      </td><td>T1        </td><td>0.56773775</td><td>0.28386888</td></tr>\n",
       "\t<tr><td>1         </td><td>treatment </td><td>work      </td><td>T2        </td><td>0.11350898</td><td>0.05675449</td></tr>\n",
       "\t<tr><td>2         </td><td>control   </td><td>work      </td><td>T2        </td><td>0.59592531</td><td>0.29796265</td></tr>\n",
       "\t<tr><td>3         </td><td>treatment </td><td>work      </td><td>T2        </td><td>0.35804998</td><td>0.17902499</td></tr>\n",
       "\t<tr><td>4         </td><td>control   </td><td>work      </td><td>T2        </td><td>0.42880942</td><td>0.21440471</td></tr>\n",
       "\t<tr><td>1         </td><td>treatment </td><td>home      </td><td>T2        </td><td>0.05190332</td><td>0.02595166</td></tr>\n",
       "\t<tr><td>2         </td><td>control   </td><td>home      </td><td>T2        </td><td>0.26417767</td><td>0.13208883</td></tr>\n",
       "\t<tr><td>3         </td><td>treatment </td><td>home      </td><td>T2        </td><td>0.39879073</td><td>0.19939537</td></tr>\n",
       "\t<tr><td>4         </td><td>control   </td><td>home      </td><td>T2        </td><td>0.83613414</td><td>0.41806707</td></tr>\n",
       "</tbody>\n",
       "</table>\n"
      ],
      "text/latex": [
       "\\begin{tabular}{r|llllll}\n",
       " id & trt & location & time & value & value2\\\\\n",
       "\\hline\n",
       "\t 1          & treatment  & work       & T1         & 0.08513597 & 0.04256798\\\\\n",
       "\t 2          & control    & work       & T1         & 0.22543662 & 0.11271831\\\\\n",
       "\t 3          & treatment  & work       & T1         & 0.27453052 & 0.13726526\\\\\n",
       "\t 4          & control    & work       & T1         & 0.27230507 & 0.13615253\\\\\n",
       "\t 1          & treatment  & home       & T1         & 0.61582931 & 0.30791465\\\\\n",
       "\t 2          & control    & home       & T1         & 0.42967153 & 0.21483576\\\\\n",
       "\t 3          & treatment  & home       & T1         & 0.65165567 & 0.32582783\\\\\n",
       "\t 4          & control    & home       & T1         & 0.56773775 & 0.28386888\\\\\n",
       "\t 1          & treatment  & work       & T2         & 0.11350898 & 0.05675449\\\\\n",
       "\t 2          & control    & work       & T2         & 0.59592531 & 0.29796265\\\\\n",
       "\t 3          & treatment  & work       & T2         & 0.35804998 & 0.17902499\\\\\n",
       "\t 4          & control    & work       & T2         & 0.42880942 & 0.21440471\\\\\n",
       "\t 1          & treatment  & home       & T2         & 0.05190332 & 0.02595166\\\\\n",
       "\t 2          & control    & home       & T2         & 0.26417767 & 0.13208883\\\\\n",
       "\t 3          & treatment  & home       & T2         & 0.39879073 & 0.19939537\\\\\n",
       "\t 4          & control    & home       & T2         & 0.83613414 & 0.41806707\\\\\n",
       "\\end{tabular}\n"
      ],
      "text/markdown": [
       "\n",
       "id | trt | location | time | value | value2 | \n",
       "|---|---|---|---|---|---|---|---|---|---|---|---|---|---|---|---|\n",
       "| 1          | treatment  | work       | T1         | 0.08513597 | 0.04256798 | \n",
       "| 2          | control    | work       | T1         | 0.22543662 | 0.11271831 | \n",
       "| 3          | treatment  | work       | T1         | 0.27453052 | 0.13726526 | \n",
       "| 4          | control    | work       | T1         | 0.27230507 | 0.13615253 | \n",
       "| 1          | treatment  | home       | T1         | 0.61582931 | 0.30791465 | \n",
       "| 2          | control    | home       | T1         | 0.42967153 | 0.21483576 | \n",
       "| 3          | treatment  | home       | T1         | 0.65165567 | 0.32582783 | \n",
       "| 4          | control    | home       | T1         | 0.56773775 | 0.28386888 | \n",
       "| 1          | treatment  | work       | T2         | 0.11350898 | 0.05675449 | \n",
       "| 2          | control    | work       | T2         | 0.59592531 | 0.29796265 | \n",
       "| 3          | treatment  | work       | T2         | 0.35804998 | 0.17902499 | \n",
       "| 4          | control    | work       | T2         | 0.42880942 | 0.21440471 | \n",
       "| 1          | treatment  | home       | T2         | 0.05190332 | 0.02595166 | \n",
       "| 2          | control    | home       | T2         | 0.26417767 | 0.13208883 | \n",
       "| 3          | treatment  | home       | T2         | 0.39879073 | 0.19939537 | \n",
       "| 4          | control    | home       | T2         | 0.83613414 | 0.41806707 | \n",
       "\n",
       "\n"
      ],
      "text/plain": [
       "   id trt       location time value      value2    \n",
       "1  1  treatment work     T1   0.08513597 0.04256798\n",
       "2  2  control   work     T1   0.22543662 0.11271831\n",
       "3  3  treatment work     T1   0.27453052 0.13726526\n",
       "4  4  control   work     T1   0.27230507 0.13615253\n",
       "5  1  treatment home     T1   0.61582931 0.30791465\n",
       "6  2  control   home     T1   0.42967153 0.21483576\n",
       "7  3  treatment home     T1   0.65165567 0.32582783\n",
       "8  4  control   home     T1   0.56773775 0.28386888\n",
       "9  1  treatment work     T2   0.11350898 0.05675449\n",
       "10 2  control   work     T2   0.59592531 0.29796265\n",
       "11 3  treatment work     T2   0.35804998 0.17902499\n",
       "12 4  control   work     T2   0.42880942 0.21440471\n",
       "13 1  treatment home     T2   0.05190332 0.02595166\n",
       "14 2  control   home     T2   0.26417767 0.13208883\n",
       "15 3  treatment home     T2   0.39879073 0.19939537\n",
       "16 4  control   home     T2   0.83613414 0.41806707"
      ]
     },
     "metadata": {},
     "output_type": "display_data"
    }
   ],
   "source": [
    "tidier %>%\n",
    "  mutate(value2 = value/2)"
   ]
  },
  {
   "cell_type": "markdown",
   "metadata": {},
   "source": [
    "## data.table package"
   ]
  },
  {
   "cell_type": "code",
   "execution_count": 14,
   "metadata": {},
   "outputs": [
    {
     "name": "stderr",
     "output_type": "stream",
     "text": [
      "\n",
      "Attaching package: ‘data.table’\n",
      "\n",
      "The following objects are masked from ‘package:dplyr’:\n",
      "\n",
      "    between, first, last\n",
      "\n"
     ]
    }
   ],
   "source": [
    "library(data.table)\n",
    "dt_tidier = as.data.table(tidier)"
   ]
  },
  {
   "cell_type": "markdown",
   "metadata": {},
   "source": [
    "### filter"
   ]
  },
  {
   "cell_type": "code",
   "execution_count": 15,
   "metadata": {},
   "outputs": [
    {
     "data": {
      "text/html": [
       "<table>\n",
       "<thead><tr><th scope=col>id</th><th scope=col>trt</th><th scope=col>location</th><th scope=col>time</th><th scope=col>value</th></tr></thead>\n",
       "<tbody>\n",
       "\t<tr><td>2        </td><td>control  </td><td>work     </td><td>T1       </td><td>0.2254366</td></tr>\n",
       "\t<tr><td>4        </td><td>control  </td><td>work     </td><td>T1       </td><td>0.2723051</td></tr>\n",
       "\t<tr><td>2        </td><td>control  </td><td>work     </td><td>T2       </td><td>0.5959253</td></tr>\n",
       "\t<tr><td>4        </td><td>control  </td><td>work     </td><td>T2       </td><td>0.4288094</td></tr>\n",
       "</tbody>\n",
       "</table>\n"
      ],
      "text/latex": [
       "\\begin{tabular}{r|lllll}\n",
       " id & trt & location & time & value\\\\\n",
       "\\hline\n",
       "\t 2         & control   & work      & T1        & 0.2254366\\\\\n",
       "\t 4         & control   & work      & T1        & 0.2723051\\\\\n",
       "\t 2         & control   & work      & T2        & 0.5959253\\\\\n",
       "\t 4         & control   & work      & T2        & 0.4288094\\\\\n",
       "\\end{tabular}\n"
      ],
      "text/markdown": [
       "\n",
       "id | trt | location | time | value | \n",
       "|---|---|---|---|\n",
       "| 2         | control   | work      | T1        | 0.2254366 | \n",
       "| 4         | control   | work      | T1        | 0.2723051 | \n",
       "| 2         | control   | work      | T2        | 0.5959253 | \n",
       "| 4         | control   | work      | T2        | 0.4288094 | \n",
       "\n",
       "\n"
      ],
      "text/plain": [
       "  id trt     location time value    \n",
       "1 2  control work     T1   0.2254366\n",
       "2 4  control work     T1   0.2723051\n",
       "3 2  control work     T2   0.5959253\n",
       "4 4  control work     T2   0.4288094"
      ]
     },
     "metadata": {},
     "output_type": "display_data"
    }
   ],
   "source": [
    "dt_tidier[trt=='control' & location=='work',]"
   ]
  },
  {
   "cell_type": "code",
   "execution_count": 16,
   "metadata": {},
   "outputs": [
    {
     "data": {
      "text/html": [
       "<table>\n",
       "<thead><tr><th scope=col>id</th><th scope=col>trt</th><th scope=col>location</th><th scope=col>time</th><th scope=col>value</th></tr></thead>\n",
       "<tbody>\n",
       "\t<tr><td>1         </td><td>treatment </td><td>work      </td><td>T1        </td><td>0.08513597</td></tr>\n",
       "\t<tr><td>2         </td><td>control   </td><td>work      </td><td>T1        </td><td>0.22543662</td></tr>\n",
       "</tbody>\n",
       "</table>\n"
      ],
      "text/latex": [
       "\\begin{tabular}{r|lllll}\n",
       " id & trt & location & time & value\\\\\n",
       "\\hline\n",
       "\t 1          & treatment  & work       & T1         & 0.08513597\\\\\n",
       "\t 2          & control    & work       & T1         & 0.22543662\\\\\n",
       "\\end{tabular}\n"
      ],
      "text/markdown": [
       "\n",
       "id | trt | location | time | value | \n",
       "|---|---|\n",
       "| 1          | treatment  | work       | T1         | 0.08513597 | \n",
       "| 2          | control    | work       | T1         | 0.22543662 | \n",
       "\n",
       "\n"
      ],
      "text/plain": [
       "  id trt       location time value     \n",
       "1 1  treatment work     T1   0.08513597\n",
       "2 2  control   work     T1   0.22543662"
      ]
     },
     "metadata": {},
     "output_type": "display_data"
    }
   ],
   "source": [
    "dt_tidier[1:2]"
   ]
  },
  {
   "cell_type": "markdown",
   "metadata": {},
   "source": [
    "### arrange"
   ]
  },
  {
   "cell_type": "code",
   "execution_count": 17,
   "metadata": {},
   "outputs": [
    {
     "data": {
      "text/html": [
       "<table>\n",
       "<thead><tr><th scope=col>id</th><th scope=col>trt</th><th scope=col>location</th><th scope=col>time</th><th scope=col>value</th></tr></thead>\n",
       "<tbody>\n",
       "\t<tr><td>4         </td><td>control   </td><td>home      </td><td>T1        </td><td>0.56773775</td></tr>\n",
       "\t<tr><td>2         </td><td>control   </td><td>home      </td><td>T1        </td><td>0.42967153</td></tr>\n",
       "\t<tr><td>4         </td><td>control   </td><td>home      </td><td>T2        </td><td>0.83613414</td></tr>\n",
       "\t<tr><td>2         </td><td>control   </td><td>home      </td><td>T2        </td><td>0.26417767</td></tr>\n",
       "\t<tr><td>4         </td><td>control   </td><td>work      </td><td>T1        </td><td>0.27230507</td></tr>\n",
       "\t<tr><td>2         </td><td>control   </td><td>work      </td><td>T1        </td><td>0.22543662</td></tr>\n",
       "\t<tr><td>2         </td><td>control   </td><td>work      </td><td>T2        </td><td>0.59592531</td></tr>\n",
       "\t<tr><td>4         </td><td>control   </td><td>work      </td><td>T2        </td><td>0.42880942</td></tr>\n",
       "\t<tr><td>3         </td><td>treatment </td><td>home      </td><td>T1        </td><td>0.65165567</td></tr>\n",
       "\t<tr><td>1         </td><td>treatment </td><td>home      </td><td>T1        </td><td>0.61582931</td></tr>\n",
       "\t<tr><td>3         </td><td>treatment </td><td>home      </td><td>T2        </td><td>0.39879073</td></tr>\n",
       "\t<tr><td>1         </td><td>treatment </td><td>home      </td><td>T2        </td><td>0.05190332</td></tr>\n",
       "\t<tr><td>3         </td><td>treatment </td><td>work      </td><td>T1        </td><td>0.27453052</td></tr>\n",
       "\t<tr><td>1         </td><td>treatment </td><td>work      </td><td>T1        </td><td>0.08513597</td></tr>\n",
       "\t<tr><td>3         </td><td>treatment </td><td>work      </td><td>T2        </td><td>0.35804998</td></tr>\n",
       "\t<tr><td>1         </td><td>treatment </td><td>work      </td><td>T2        </td><td>0.11350898</td></tr>\n",
       "</tbody>\n",
       "</table>\n"
      ],
      "text/latex": [
       "\\begin{tabular}{r|lllll}\n",
       " id & trt & location & time & value\\\\\n",
       "\\hline\n",
       "\t 4          & control    & home       & T1         & 0.56773775\\\\\n",
       "\t 2          & control    & home       & T1         & 0.42967153\\\\\n",
       "\t 4          & control    & home       & T2         & 0.83613414\\\\\n",
       "\t 2          & control    & home       & T2         & 0.26417767\\\\\n",
       "\t 4          & control    & work       & T1         & 0.27230507\\\\\n",
       "\t 2          & control    & work       & T1         & 0.22543662\\\\\n",
       "\t 2          & control    & work       & T2         & 0.59592531\\\\\n",
       "\t 4          & control    & work       & T2         & 0.42880942\\\\\n",
       "\t 3          & treatment  & home       & T1         & 0.65165567\\\\\n",
       "\t 1          & treatment  & home       & T1         & 0.61582931\\\\\n",
       "\t 3          & treatment  & home       & T2         & 0.39879073\\\\\n",
       "\t 1          & treatment  & home       & T2         & 0.05190332\\\\\n",
       "\t 3          & treatment  & work       & T1         & 0.27453052\\\\\n",
       "\t 1          & treatment  & work       & T1         & 0.08513597\\\\\n",
       "\t 3          & treatment  & work       & T2         & 0.35804998\\\\\n",
       "\t 1          & treatment  & work       & T2         & 0.11350898\\\\\n",
       "\\end{tabular}\n"
      ],
      "text/markdown": [
       "\n",
       "id | trt | location | time | value | \n",
       "|---|---|---|---|---|---|---|---|---|---|---|---|---|---|---|---|\n",
       "| 4          | control    | home       | T1         | 0.56773775 | \n",
       "| 2          | control    | home       | T1         | 0.42967153 | \n",
       "| 4          | control    | home       | T2         | 0.83613414 | \n",
       "| 2          | control    | home       | T2         | 0.26417767 | \n",
       "| 4          | control    | work       | T1         | 0.27230507 | \n",
       "| 2          | control    | work       | T1         | 0.22543662 | \n",
       "| 2          | control    | work       | T2         | 0.59592531 | \n",
       "| 4          | control    | work       | T2         | 0.42880942 | \n",
       "| 3          | treatment  | home       | T1         | 0.65165567 | \n",
       "| 1          | treatment  | home       | T1         | 0.61582931 | \n",
       "| 3          | treatment  | home       | T2         | 0.39879073 | \n",
       "| 1          | treatment  | home       | T2         | 0.05190332 | \n",
       "| 3          | treatment  | work       | T1         | 0.27453052 | \n",
       "| 1          | treatment  | work       | T1         | 0.08513597 | \n",
       "| 3          | treatment  | work       | T2         | 0.35804998 | \n",
       "| 1          | treatment  | work       | T2         | 0.11350898 | \n",
       "\n",
       "\n"
      ],
      "text/plain": [
       "   id trt       location time value     \n",
       "1  4  control   home     T1   0.56773775\n",
       "2  2  control   home     T1   0.42967153\n",
       "3  4  control   home     T2   0.83613414\n",
       "4  2  control   home     T2   0.26417767\n",
       "5  4  control   work     T1   0.27230507\n",
       "6  2  control   work     T1   0.22543662\n",
       "7  2  control   work     T2   0.59592531\n",
       "8  4  control   work     T2   0.42880942\n",
       "9  3  treatment home     T1   0.65165567\n",
       "10 1  treatment home     T1   0.61582931\n",
       "11 3  treatment home     T2   0.39879073\n",
       "12 1  treatment home     T2   0.05190332\n",
       "13 3  treatment work     T1   0.27453052\n",
       "14 1  treatment work     T1   0.08513597\n",
       "15 3  treatment work     T2   0.35804998\n",
       "16 1  treatment work     T2   0.11350898"
      ]
     },
     "metadata": {},
     "output_type": "display_data"
    }
   ],
   "source": [
    "dt_tidier[order(trt,location,time,-value)]"
   ]
  },
  {
   "cell_type": "markdown",
   "metadata": {},
   "source": [
    "### select"
   ]
  },
  {
   "cell_type": "code",
   "execution_count": 18,
   "metadata": {},
   "outputs": [
    {
     "data": {
      "text/html": [
       "<table>\n",
       "<thead><tr><th scope=col>id</th><th scope=col>trt</th><th scope=col>value</th></tr></thead>\n",
       "<tbody>\n",
       "\t<tr><td>1         </td><td>treatment </td><td>0.08513597</td></tr>\n",
       "\t<tr><td>2         </td><td>control   </td><td>0.22543662</td></tr>\n",
       "\t<tr><td>3         </td><td>treatment </td><td>0.27453052</td></tr>\n",
       "\t<tr><td>4         </td><td>control   </td><td>0.27230507</td></tr>\n",
       "\t<tr><td>1         </td><td>treatment </td><td>0.61582931</td></tr>\n",
       "\t<tr><td>2         </td><td>control   </td><td>0.42967153</td></tr>\n",
       "\t<tr><td>3         </td><td>treatment </td><td>0.65165567</td></tr>\n",
       "\t<tr><td>4         </td><td>control   </td><td>0.56773775</td></tr>\n",
       "\t<tr><td>1         </td><td>treatment </td><td>0.11350898</td></tr>\n",
       "\t<tr><td>2         </td><td>control   </td><td>0.59592531</td></tr>\n",
       "\t<tr><td>3         </td><td>treatment </td><td>0.35804998</td></tr>\n",
       "\t<tr><td>4         </td><td>control   </td><td>0.42880942</td></tr>\n",
       "\t<tr><td>1         </td><td>treatment </td><td>0.05190332</td></tr>\n",
       "\t<tr><td>2         </td><td>control   </td><td>0.26417767</td></tr>\n",
       "\t<tr><td>3         </td><td>treatment </td><td>0.39879073</td></tr>\n",
       "\t<tr><td>4         </td><td>control   </td><td>0.83613414</td></tr>\n",
       "</tbody>\n",
       "</table>\n"
      ],
      "text/latex": [
       "\\begin{tabular}{r|lll}\n",
       " id & trt & value\\\\\n",
       "\\hline\n",
       "\t 1          & treatment  & 0.08513597\\\\\n",
       "\t 2          & control    & 0.22543662\\\\\n",
       "\t 3          & treatment  & 0.27453052\\\\\n",
       "\t 4          & control    & 0.27230507\\\\\n",
       "\t 1          & treatment  & 0.61582931\\\\\n",
       "\t 2          & control    & 0.42967153\\\\\n",
       "\t 3          & treatment  & 0.65165567\\\\\n",
       "\t 4          & control    & 0.56773775\\\\\n",
       "\t 1          & treatment  & 0.11350898\\\\\n",
       "\t 2          & control    & 0.59592531\\\\\n",
       "\t 3          & treatment  & 0.35804998\\\\\n",
       "\t 4          & control    & 0.42880942\\\\\n",
       "\t 1          & treatment  & 0.05190332\\\\\n",
       "\t 2          & control    & 0.26417767\\\\\n",
       "\t 3          & treatment  & 0.39879073\\\\\n",
       "\t 4          & control    & 0.83613414\\\\\n",
       "\\end{tabular}\n"
      ],
      "text/markdown": [
       "\n",
       "id | trt | value | \n",
       "|---|---|---|---|---|---|---|---|---|---|---|---|---|---|---|---|\n",
       "| 1          | treatment  | 0.08513597 | \n",
       "| 2          | control    | 0.22543662 | \n",
       "| 3          | treatment  | 0.27453052 | \n",
       "| 4          | control    | 0.27230507 | \n",
       "| 1          | treatment  | 0.61582931 | \n",
       "| 2          | control    | 0.42967153 | \n",
       "| 3          | treatment  | 0.65165567 | \n",
       "| 4          | control    | 0.56773775 | \n",
       "| 1          | treatment  | 0.11350898 | \n",
       "| 2          | control    | 0.59592531 | \n",
       "| 3          | treatment  | 0.35804998 | \n",
       "| 4          | control    | 0.42880942 | \n",
       "| 1          | treatment  | 0.05190332 | \n",
       "| 2          | control    | 0.26417767 | \n",
       "| 3          | treatment  | 0.39879073 | \n",
       "| 4          | control    | 0.83613414 | \n",
       "\n",
       "\n"
      ],
      "text/plain": [
       "   id trt       value     \n",
       "1  1  treatment 0.08513597\n",
       "2  2  control   0.22543662\n",
       "3  3  treatment 0.27453052\n",
       "4  4  control   0.27230507\n",
       "5  1  treatment 0.61582931\n",
       "6  2  control   0.42967153\n",
       "7  3  treatment 0.65165567\n",
       "8  4  control   0.56773775\n",
       "9  1  treatment 0.11350898\n",
       "10 2  control   0.59592531\n",
       "11 3  treatment 0.35804998\n",
       "12 4  control   0.42880942\n",
       "13 1  treatment 0.05190332\n",
       "14 2  control   0.26417767\n",
       "15 3  treatment 0.39879073\n",
       "16 4  control   0.83613414"
      ]
     },
     "metadata": {},
     "output_type": "display_data"
    }
   ],
   "source": [
    "dt_tidier[,.(id,trt,value)]"
   ]
  },
  {
   "cell_type": "markdown",
   "metadata": {},
   "source": [
    "### mutate"
   ]
  },
  {
   "cell_type": "code",
   "execution_count": 19,
   "metadata": {},
   "outputs": [
    {
     "data": {},
     "metadata": {},
     "output_type": "display_data"
    },
    {
     "data": {
      "text/html": [
       "<table>\n",
       "<thead><tr><th scope=col>id</th><th scope=col>trt</th><th scope=col>location</th><th scope=col>time</th><th scope=col>value</th><th scope=col>value2</th></tr></thead>\n",
       "<tbody>\n",
       "\t<tr><td>1         </td><td>treatment </td><td>work      </td><td>T1        </td><td>0.08513597</td><td>0.3856001 </td></tr>\n",
       "\t<tr><td>2         </td><td>control   </td><td>work      </td><td>T1        </td><td>0.22543662</td><td>0.3856001 </td></tr>\n",
       "\t<tr><td>3         </td><td>treatment </td><td>work      </td><td>T1        </td><td>0.27453052</td><td>0.3856001 </td></tr>\n",
       "\t<tr><td>4         </td><td>control   </td><td>work      </td><td>T1        </td><td>0.27230507</td><td>0.3856001 </td></tr>\n",
       "\t<tr><td>1         </td><td>treatment </td><td>home      </td><td>T1        </td><td>0.61582931</td><td>0.3856001 </td></tr>\n",
       "\t<tr><td>2         </td><td>control   </td><td>home      </td><td>T1        </td><td>0.42967153</td><td>0.3856001 </td></tr>\n",
       "\t<tr><td>3         </td><td>treatment </td><td>home      </td><td>T1        </td><td>0.65165567</td><td>0.3856001 </td></tr>\n",
       "\t<tr><td>4         </td><td>control   </td><td>home      </td><td>T1        </td><td>0.56773775</td><td>0.3856001 </td></tr>\n",
       "\t<tr><td>1         </td><td>treatment </td><td>work      </td><td>T2        </td><td>0.11350898</td><td>0.3856001 </td></tr>\n",
       "\t<tr><td>2         </td><td>control   </td><td>work      </td><td>T2        </td><td>0.59592531</td><td>0.3856001 </td></tr>\n",
       "\t<tr><td>3         </td><td>treatment </td><td>work      </td><td>T2        </td><td>0.35804998</td><td>0.3856001 </td></tr>\n",
       "\t<tr><td>4         </td><td>control   </td><td>work      </td><td>T2        </td><td>0.42880942</td><td>0.3856001 </td></tr>\n",
       "\t<tr><td>1         </td><td>treatment </td><td>home      </td><td>T2        </td><td>0.05190332</td><td>0.3856001 </td></tr>\n",
       "\t<tr><td>2         </td><td>control   </td><td>home      </td><td>T2        </td><td>0.26417767</td><td>0.3856001 </td></tr>\n",
       "\t<tr><td>3         </td><td>treatment </td><td>home      </td><td>T2        </td><td>0.39879073</td><td>0.3856001 </td></tr>\n",
       "\t<tr><td>4         </td><td>control   </td><td>home      </td><td>T2        </td><td>0.83613414</td><td>0.3856001 </td></tr>\n",
       "</tbody>\n",
       "</table>\n"
      ],
      "text/latex": [
       "\\begin{tabular}{r|llllll}\n",
       " id & trt & location & time & value & value2\\\\\n",
       "\\hline\n",
       "\t 1          & treatment  & work       & T1         & 0.08513597 & 0.3856001 \\\\\n",
       "\t 2          & control    & work       & T1         & 0.22543662 & 0.3856001 \\\\\n",
       "\t 3          & treatment  & work       & T1         & 0.27453052 & 0.3856001 \\\\\n",
       "\t 4          & control    & work       & T1         & 0.27230507 & 0.3856001 \\\\\n",
       "\t 1          & treatment  & home       & T1         & 0.61582931 & 0.3856001 \\\\\n",
       "\t 2          & control    & home       & T1         & 0.42967153 & 0.3856001 \\\\\n",
       "\t 3          & treatment  & home       & T1         & 0.65165567 & 0.3856001 \\\\\n",
       "\t 4          & control    & home       & T1         & 0.56773775 & 0.3856001 \\\\\n",
       "\t 1          & treatment  & work       & T2         & 0.11350898 & 0.3856001 \\\\\n",
       "\t 2          & control    & work       & T2         & 0.59592531 & 0.3856001 \\\\\n",
       "\t 3          & treatment  & work       & T2         & 0.35804998 & 0.3856001 \\\\\n",
       "\t 4          & control    & work       & T2         & 0.42880942 & 0.3856001 \\\\\n",
       "\t 1          & treatment  & home       & T2         & 0.05190332 & 0.3856001 \\\\\n",
       "\t 2          & control    & home       & T2         & 0.26417767 & 0.3856001 \\\\\n",
       "\t 3          & treatment  & home       & T2         & 0.39879073 & 0.3856001 \\\\\n",
       "\t 4          & control    & home       & T2         & 0.83613414 & 0.3856001 \\\\\n",
       "\\end{tabular}\n"
      ],
      "text/markdown": [
       "\n",
       "id | trt | location | time | value | value2 | \n",
       "|---|---|---|---|---|---|---|---|---|---|---|---|---|---|---|---|\n",
       "| 1          | treatment  | work       | T1         | 0.08513597 | 0.3856001  | \n",
       "| 2          | control    | work       | T1         | 0.22543662 | 0.3856001  | \n",
       "| 3          | treatment  | work       | T1         | 0.27453052 | 0.3856001  | \n",
       "| 4          | control    | work       | T1         | 0.27230507 | 0.3856001  | \n",
       "| 1          | treatment  | home       | T1         | 0.61582931 | 0.3856001  | \n",
       "| 2          | control    | home       | T1         | 0.42967153 | 0.3856001  | \n",
       "| 3          | treatment  | home       | T1         | 0.65165567 | 0.3856001  | \n",
       "| 4          | control    | home       | T1         | 0.56773775 | 0.3856001  | \n",
       "| 1          | treatment  | work       | T2         | 0.11350898 | 0.3856001  | \n",
       "| 2          | control    | work       | T2         | 0.59592531 | 0.3856001  | \n",
       "| 3          | treatment  | work       | T2         | 0.35804998 | 0.3856001  | \n",
       "| 4          | control    | work       | T2         | 0.42880942 | 0.3856001  | \n",
       "| 1          | treatment  | home       | T2         | 0.05190332 | 0.3856001  | \n",
       "| 2          | control    | home       | T2         | 0.26417767 | 0.3856001  | \n",
       "| 3          | treatment  | home       | T2         | 0.39879073 | 0.3856001  | \n",
       "| 4          | control    | home       | T2         | 0.83613414 | 0.3856001  | \n",
       "\n",
       "\n"
      ],
      "text/plain": [
       "   id trt       location time value      value2   \n",
       "1  1  treatment work     T1   0.08513597 0.3856001\n",
       "2  2  control   work     T1   0.22543662 0.3856001\n",
       "3  3  treatment work     T1   0.27453052 0.3856001\n",
       "4  4  control   work     T1   0.27230507 0.3856001\n",
       "5  1  treatment home     T1   0.61582931 0.3856001\n",
       "6  2  control   home     T1   0.42967153 0.3856001\n",
       "7  3  treatment home     T1   0.65165567 0.3856001\n",
       "8  4  control   home     T1   0.56773775 0.3856001\n",
       "9  1  treatment work     T2   0.11350898 0.3856001\n",
       "10 2  control   work     T2   0.59592531 0.3856001\n",
       "11 3  treatment work     T2   0.35804998 0.3856001\n",
       "12 4  control   work     T2   0.42880942 0.3856001\n",
       "13 1  treatment home     T2   0.05190332 0.3856001\n",
       "14 2  control   home     T2   0.26417767 0.3856001\n",
       "15 3  treatment home     T2   0.39879073 0.3856001\n",
       "16 4  control   home     T2   0.83613414 0.3856001"
      ]
     },
     "metadata": {},
     "output_type": "display_data"
    }
   ],
   "source": [
    "dt_tidier[,value2 := mean(value)]\n",
    "dt_tidier"
   ]
  },
  {
   "cell_type": "code",
   "execution_count": 20,
   "metadata": {},
   "outputs": [
    {
     "data": {
      "text/html": [
       "<table>\n",
       "<thead><tr><th scope=col>value2</th></tr></thead>\n",
       "<tbody>\n",
       "\t<tr><td>0.3856001</td></tr>\n",
       "</tbody>\n",
       "</table>\n"
      ],
      "text/latex": [
       "\\begin{tabular}{r|l}\n",
       " value2\\\\\n",
       "\\hline\n",
       "\t 0.3856001\\\\\n",
       "\\end{tabular}\n"
      ],
      "text/markdown": [
       "\n",
       "value2 | \n",
       "|---|\n",
       "| 0.3856001 | \n",
       "\n",
       "\n"
      ],
      "text/plain": [
       "  value2   \n",
       "1 0.3856001"
      ]
     },
     "metadata": {},
     "output_type": "display_data"
    }
   ],
   "source": [
    "dt_tidier[, .(value2 = mean(value))]"
   ]
  },
  {
   "cell_type": "markdown",
   "metadata": {},
   "source": [
    "### group_by and summarize"
   ]
  },
  {
   "cell_type": "code",
   "execution_count": 21,
   "metadata": {},
   "outputs": [
    {
     "data": {
      "text/html": [
       "<table>\n",
       "<thead><tr><th scope=col>trt</th><th scope=col>location</th><th scope=col>count</th></tr></thead>\n",
       "<tbody>\n",
       "\t<tr><td>treatment</td><td>work     </td><td>4        </td></tr>\n",
       "\t<tr><td>control  </td><td>work     </td><td>4        </td></tr>\n",
       "\t<tr><td>treatment</td><td>home     </td><td>4        </td></tr>\n",
       "\t<tr><td>control  </td><td>home     </td><td>4        </td></tr>\n",
       "</tbody>\n",
       "</table>\n"
      ],
      "text/latex": [
       "\\begin{tabular}{r|lll}\n",
       " trt & location & count\\\\\n",
       "\\hline\n",
       "\t treatment & work      & 4        \\\\\n",
       "\t control   & work      & 4        \\\\\n",
       "\t treatment & home      & 4        \\\\\n",
       "\t control   & home      & 4        \\\\\n",
       "\\end{tabular}\n"
      ],
      "text/markdown": [
       "\n",
       "trt | location | count | \n",
       "|---|---|---|---|\n",
       "| treatment | work      | 4         | \n",
       "| control   | work      | 4         | \n",
       "| treatment | home      | 4         | \n",
       "| control   | home      | 4         | \n",
       "\n",
       "\n"
      ],
      "text/plain": [
       "  trt       location count\n",
       "1 treatment work     4    \n",
       "2 control   work     4    \n",
       "3 treatment home     4    \n",
       "4 control   home     4    "
      ]
     },
     "metadata": {},
     "output_type": "display_data"
    }
   ],
   "source": [
    "dt_tidier[,.(count=.N), by = .(trt,location)]"
   ]
  },
  {
   "cell_type": "code",
   "execution_count": 22,
   "metadata": {},
   "outputs": [
    {
     "data": {
      "text/html": [
       "<table>\n",
       "<thead><tr><th scope=col>trt</th><th scope=col>location</th><th scope=col>mean_value</th></tr></thead>\n",
       "<tbody>\n",
       "\t<tr><td>treatment</td><td>work     </td><td>0.2078064</td></tr>\n",
       "\t<tr><td>control  </td><td>work     </td><td>0.3806191</td></tr>\n",
       "\t<tr><td>treatment</td><td>home     </td><td>0.4295448</td></tr>\n",
       "\t<tr><td>control  </td><td>home     </td><td>0.5244303</td></tr>\n",
       "</tbody>\n",
       "</table>\n"
      ],
      "text/latex": [
       "\\begin{tabular}{r|lll}\n",
       " trt & location & mean\\_value\\\\\n",
       "\\hline\n",
       "\t treatment & work      & 0.2078064\\\\\n",
       "\t control   & work      & 0.3806191\\\\\n",
       "\t treatment & home      & 0.4295448\\\\\n",
       "\t control   & home      & 0.5244303\\\\\n",
       "\\end{tabular}\n"
      ],
      "text/markdown": [
       "\n",
       "trt | location | mean_value | \n",
       "|---|---|---|---|\n",
       "| treatment | work      | 0.2078064 | \n",
       "| control   | work      | 0.3806191 | \n",
       "| treatment | home      | 0.4295448 | \n",
       "| control   | home      | 0.5244303 | \n",
       "\n",
       "\n"
      ],
      "text/plain": [
       "  trt       location mean_value\n",
       "1 treatment work     0.2078064 \n",
       "2 control   work     0.3806191 \n",
       "3 treatment home     0.4295448 \n",
       "4 control   home     0.5244303 "
      ]
     },
     "metadata": {},
     "output_type": "display_data"
    }
   ],
   "source": [
    "dt_tidier[,.(mean_value=mean(value,na.rm=TRUE)), by = .(trt,location)]"
   ]
  },
  {
   "cell_type": "code",
   "execution_count": 23,
   "metadata": {},
   "outputs": [
    {
     "data": {
      "text/html": [
       "<table>\n",
       "<thead><tr><th scope=col>value</th><th scope=col>count</th></tr></thead>\n",
       "<tbody>\n",
       "\t<tr><td>FALSE</td><td>11   </td></tr>\n",
       "\t<tr><td> TRUE</td><td> 5   </td></tr>\n",
       "</tbody>\n",
       "</table>\n"
      ],
      "text/latex": [
       "\\begin{tabular}{r|ll}\n",
       " value & count\\\\\n",
       "\\hline\n",
       "\t FALSE & 11   \\\\\n",
       "\t  TRUE &  5   \\\\\n",
       "\\end{tabular}\n"
      ],
      "text/markdown": [
       "\n",
       "value | count | \n",
       "|---|---|\n",
       "| FALSE | 11    | \n",
       "|  TRUE |  5    | \n",
       "\n",
       "\n"
      ],
      "text/plain": [
       "  value count\n",
       "1 FALSE 11   \n",
       "2  TRUE  5   "
      ]
     },
     "metadata": {},
     "output_type": "display_data"
    }
   ],
   "source": [
    "dt_tidier[,.(count=.N), value>0.5]"
   ]
  },
  {
   "cell_type": "markdown",
   "metadata": {},
   "source": [
    "### Multiple columns in j - .SD\n",
    "data.table provides a special symbol, called .SD. It stands for Subset of Data. It by itself is a data.table that holds the data for the current group defined using by."
   ]
  },
  {
   "cell_type": "code",
   "execution_count": 24,
   "metadata": {},
   "outputs": [
    {
     "name": "stdout",
     "output_type": "stream",
     "text": [
      "   id location time      value    value2\n",
      "1:  1     work   T1 0.08513597 0.3856001\n",
      "2:  3     work   T1 0.27453052 0.3856001\n",
      "3:  1     home   T1 0.61582931 0.3856001\n",
      "4:  3     home   T1 0.65165567 0.3856001\n",
      "5:  1     work   T2 0.11350898 0.3856001\n",
      "6:  3     work   T2 0.35804998 0.3856001\n",
      "7:  1     home   T2 0.05190332 0.3856001\n",
      "8:  3     home   T2 0.39879073 0.3856001\n",
      "   id location time     value    value2\n",
      "1:  2     work   T1 0.2254366 0.3856001\n",
      "2:  4     work   T1 0.2723051 0.3856001\n",
      "3:  2     home   T1 0.4296715 0.3856001\n",
      "4:  4     home   T1 0.5677378 0.3856001\n",
      "5:  2     work   T2 0.5959253 0.3856001\n",
      "6:  4     work   T2 0.4288094 0.3856001\n",
      "7:  2     home   T2 0.2641777 0.3856001\n",
      "8:  4     home   T2 0.8361341 0.3856001\n"
     ]
    },
    {
     "data": {
      "text/html": [
       "<table>\n",
       "<thead><tr><th scope=col>trt</th></tr></thead>\n",
       "<tbody>\n",
       "</tbody>\n",
       "</table>\n"
      ],
      "text/latex": [
       "\\begin{tabular}{r|l}\n",
       " trt\\\\\n",
       "\\hline\n",
       "\\end{tabular}\n"
      ],
      "text/markdown": [
       "\n",
       "trt | \n",
       "||\n",
       "\n",
       "\n"
      ],
      "text/plain": [
       "     trt"
      ]
     },
     "metadata": {},
     "output_type": "display_data"
    }
   ],
   "source": [
    "dt_tidier[, print(.SD), by=trt]"
   ]
  },
  {
   "cell_type": "markdown",
   "metadata": {},
   "source": [
    "- .SD contains all the columns except the grouping columns by default.\n",
    "<br>\n",
    "- It is also generated by preserving the original order - data corresponding to ID = \"treatment\", then ID = \"control\"."
   ]
  },
  {
   "cell_type": "markdown",
   "metadata": {},
   "source": [
    "To compute on (multiple) columns, we can then simply use the base R function lapply()."
   ]
  },
  {
   "cell_type": "code",
   "execution_count": 26,
   "metadata": {},
   "outputs": [
    {
     "data": {
      "text/html": [
       "<table>\n",
       "<thead><tr><th scope=col>ID</th><th scope=col>a</th><th scope=col>b</th><th scope=col>c</th></tr></thead>\n",
       "<tbody>\n",
       "\t<tr><td>b </td><td>1 </td><td> 7</td><td>13</td></tr>\n",
       "\t<tr><td>b </td><td>2 </td><td> 8</td><td>14</td></tr>\n",
       "\t<tr><td>b </td><td>3 </td><td> 9</td><td>15</td></tr>\n",
       "\t<tr><td>a </td><td>4 </td><td>10</td><td>16</td></tr>\n",
       "\t<tr><td>a </td><td>5 </td><td>11</td><td>17</td></tr>\n",
       "\t<tr><td>c </td><td>6 </td><td>12</td><td>18</td></tr>\n",
       "</tbody>\n",
       "</table>\n"
      ],
      "text/latex": [
       "\\begin{tabular}{r|llll}\n",
       " ID & a & b & c\\\\\n",
       "\\hline\n",
       "\t b  & 1  &  7 & 13\\\\\n",
       "\t b  & 2  &  8 & 14\\\\\n",
       "\t b  & 3  &  9 & 15\\\\\n",
       "\t a  & 4  & 10 & 16\\\\\n",
       "\t a  & 5  & 11 & 17\\\\\n",
       "\t c  & 6  & 12 & 18\\\\\n",
       "\\end{tabular}\n"
      ],
      "text/markdown": [
       "\n",
       "ID | a | b | c | \n",
       "|---|---|---|---|---|---|\n",
       "| b  | 1  |  7 | 13 | \n",
       "| b  | 2  |  8 | 14 | \n",
       "| b  | 3  |  9 | 15 | \n",
       "| a  | 4  | 10 | 16 | \n",
       "| a  | 5  | 11 | 17 | \n",
       "| c  | 6  | 12 | 18 | \n",
       "\n",
       "\n"
      ],
      "text/plain": [
       "  ID a b  c \n",
       "1 b  1  7 13\n",
       "2 b  2  8 14\n",
       "3 b  3  9 15\n",
       "4 a  4 10 16\n",
       "5 a  5 11 17\n",
       "6 c  6 12 18"
      ]
     },
     "metadata": {},
     "output_type": "display_data"
    },
    {
     "data": {
      "text/html": [
       "<table>\n",
       "<thead><tr><th scope=col>ID</th><th scope=col>a</th><th scope=col>b</th><th scope=col>c</th></tr></thead>\n",
       "<tbody>\n",
       "\t<tr><td>b   </td><td>2.0 </td><td> 8.0</td><td>14.0</td></tr>\n",
       "\t<tr><td>a   </td><td>4.5 </td><td>10.5</td><td>16.5</td></tr>\n",
       "\t<tr><td>c   </td><td>6.0 </td><td>12.0</td><td>18.0</td></tr>\n",
       "</tbody>\n",
       "</table>\n"
      ],
      "text/latex": [
       "\\begin{tabular}{r|llll}\n",
       " ID & a & b & c\\\\\n",
       "\\hline\n",
       "\t b    & 2.0  &  8.0 & 14.0\\\\\n",
       "\t a    & 4.5  & 10.5 & 16.5\\\\\n",
       "\t c    & 6.0  & 12.0 & 18.0\\\\\n",
       "\\end{tabular}\n"
      ],
      "text/markdown": [
       "\n",
       "ID | a | b | c | \n",
       "|---|---|---|\n",
       "| b    | 2.0  |  8.0 | 14.0 | \n",
       "| a    | 4.5  | 10.5 | 16.5 | \n",
       "| c    | 6.0  | 12.0 | 18.0 | \n",
       "\n",
       "\n"
      ],
      "text/plain": [
       "  ID a   b    c   \n",
       "1 b  2.0  8.0 14.0\n",
       "2 a  4.5 10.5 16.5\n",
       "3 c  6.0 12.0 18.0"
      ]
     },
     "metadata": {},
     "output_type": "display_data"
    }
   ],
   "source": [
    "DT = data.table(ID = c(\"b\",\"b\",\"b\",\"a\",\"a\",\"c\"), a = 1:6, b = 7:12, c = 13:18)\n",
    "DT\n",
    "DT[, lapply(.SD,mean), by=ID]"
   ]
  },
  {
   "cell_type": "markdown",
   "metadata": {},
   "source": [
    "**How can we return the first two rows for each trt?**"
   ]
  },
  {
   "cell_type": "code",
   "execution_count": 29,
   "metadata": {},
   "outputs": [
    {
     "data": {
      "text/html": [
       "<table>\n",
       "<thead><tr><th scope=col>trt</th><th scope=col>id</th><th scope=col>location</th><th scope=col>time</th><th scope=col>value</th><th scope=col>value2</th></tr></thead>\n",
       "<tbody>\n",
       "\t<tr><td>treatment </td><td>1         </td><td>work      </td><td>T1        </td><td>0.08513597</td><td>0.3856001 </td></tr>\n",
       "\t<tr><td>treatment </td><td>3         </td><td>work      </td><td>T1        </td><td>0.27453052</td><td>0.3856001 </td></tr>\n",
       "\t<tr><td>control   </td><td>2         </td><td>work      </td><td>T1        </td><td>0.22543662</td><td>0.3856001 </td></tr>\n",
       "\t<tr><td>control   </td><td>4         </td><td>work      </td><td>T1        </td><td>0.27230507</td><td>0.3856001 </td></tr>\n",
       "</tbody>\n",
       "</table>\n"
      ],
      "text/latex": [
       "\\begin{tabular}{r|llllll}\n",
       " trt & id & location & time & value & value2\\\\\n",
       "\\hline\n",
       "\t treatment  & 1          & work       & T1         & 0.08513597 & 0.3856001 \\\\\n",
       "\t treatment  & 3          & work       & T1         & 0.27453052 & 0.3856001 \\\\\n",
       "\t control    & 2          & work       & T1         & 0.22543662 & 0.3856001 \\\\\n",
       "\t control    & 4          & work       & T1         & 0.27230507 & 0.3856001 \\\\\n",
       "\\end{tabular}\n"
      ],
      "text/markdown": [
       "\n",
       "trt | id | location | time | value | value2 | \n",
       "|---|---|---|---|\n",
       "| treatment  | 1          | work       | T1         | 0.08513597 | 0.3856001  | \n",
       "| treatment  | 3          | work       | T1         | 0.27453052 | 0.3856001  | \n",
       "| control    | 2          | work       | T1         | 0.22543662 | 0.3856001  | \n",
       "| control    | 4          | work       | T1         | 0.27230507 | 0.3856001  | \n",
       "\n",
       "\n"
      ],
      "text/plain": [
       "  trt       id location time value      value2   \n",
       "1 treatment 1  work     T1   0.08513597 0.3856001\n",
       "2 treatment 3  work     T1   0.27453052 0.3856001\n",
       "3 control   2  work     T1   0.22543662 0.3856001\n",
       "4 control   4  work     T1   0.27230507 0.3856001"
      ]
     },
     "metadata": {},
     "output_type": "display_data"
    }
   ],
   "source": [
    "dt_tidier[,head(.SD,2),by=trt]"
   ]
  },
  {
   "cell_type": "markdown",
   "metadata": {},
   "source": [
    "**.SDcols**\n",
    "<br>\n",
    "It accepts either column names or column indices. For example, .SDcols = c(\"arr_delay\", \"dep_delay\") ensures that .SD contains only these two columns for each group."
   ]
  },
  {
   "cell_type": "code",
   "execution_count": 28,
   "metadata": {},
   "outputs": [
    {
     "data": {
      "text/html": [
       "<table>\n",
       "<thead><tr><th scope=col>trt</th><th scope=col>value</th><th scope=col>value2</th></tr></thead>\n",
       "<tbody>\n",
       "\t<tr><td>treatment</td><td>0.3186756</td><td>0.3856001</td></tr>\n",
       "\t<tr><td>control  </td><td>0.4525247</td><td>0.3856001</td></tr>\n",
       "</tbody>\n",
       "</table>\n"
      ],
      "text/latex": [
       "\\begin{tabular}{r|lll}\n",
       " trt & value & value2\\\\\n",
       "\\hline\n",
       "\t treatment & 0.3186756 & 0.3856001\\\\\n",
       "\t control   & 0.4525247 & 0.3856001\\\\\n",
       "\\end{tabular}\n"
      ],
      "text/markdown": [
       "\n",
       "trt | value | value2 | \n",
       "|---|---|\n",
       "| treatment | 0.3186756 | 0.3856001 | \n",
       "| control   | 0.4525247 | 0.3856001 | \n",
       "\n",
       "\n"
      ],
      "text/plain": [
       "  trt       value     value2   \n",
       "1 treatment 0.3186756 0.3856001\n",
       "2 control   0.4525247 0.3856001"
      ]
     },
     "metadata": {},
     "output_type": "display_data"
    }
   ],
   "source": [
    "dt_tidier[, lapply(.SD, mean),by=trt,.SDcols=c('value','value2')]"
   ]
  },
  {
   "cell_type": "code",
   "execution_count": null,
   "metadata": {},
   "outputs": [],
   "source": []
  }
 ],
 "metadata": {
  "kernelspec": {
   "display_name": "R",
   "language": "R",
   "name": "ir"
  },
  "language_info": {
   "codemirror_mode": "r",
   "file_extension": ".r",
   "mimetype": "text/x-r-source",
   "name": "R",
   "pygments_lexer": "r",
   "version": "3.4.2"
  }
 },
 "nbformat": 4,
 "nbformat_minor": 2
}
